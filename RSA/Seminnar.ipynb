{
 "cells": [
  {
   "cell_type": "markdown",
   "metadata": {},
   "source": [
    "![image](https://github.com/user-attachments/assets/851d6c96-57b1-45ba-b217-73b1c1996669)\n",
    "\n",
    "- Với case này **plaintext** đã được pad 1 số bytes vào. Tuy nhiên lại cho ta biết các bytes đó nằm ở vị trí như thế nào hoặc không (lúc này ta có thể brute force).\n",
    "- Cụ thể thì case này cho ta giá trị của $c$, $n$, $e \\ (small)$, $a$ (chuỗi được pad vào **plantext**), vị trí **plaintext** khi pad hoặc không:))).\n",
    "\n",
    "**Demo:**"
   ]
  },
  {
   "cell_type": "code",
   "execution_count": null,
   "metadata": {},
   "outputs": [
    {
     "name": "stdout",
     "output_type": "stream",
     "text": [
      "n= 75064048536772119191212132367824309426985399698477113334962192376682158654012348283618567122293186454648045341135998723591404012412736112969726443027847030018950251921377933150295648264657095418260749097878921791254653695919567834141630430666287999273945202448888063614583177398904162116336144622563805048561\n",
      "c= 28459603121508391751992030881121791409210076341643208137424547552312376410945903881797548906034967708385634970145912822649871617718426530081542807535191652188917447224982781372929352878706869061207776709342497227675902673992252343286010341541276450909646475525959134099520319336883512057499218839253833786209\n"
     ]
    }
   ],
   "source": [
    "from Crypto.Util.number import *\n",
    "\n",
    "a= b'I think len flag is 10- 16 bytes and '\n",
    "flag= b'guess me if you can!'\n",
    "p= getPrime(512)\n",
    "q= getPrime(512)\n",
    "n= p*q\n",
    "e= 3\n",
    "m= bytes_to_long(a+ flag)\n",
    "c= pow(m, e, n)\n",
    "print(f'n= {n}')\n",
    "print(f'c= {c}')\n",
    "\n",
    "# n= 154650126490910825870431824934576182333068222671724410440155023178036767655133979421221274290173069244049735304064481949737997738636139682820002608333682194079520003991577040792761175190838968676570220075436336115063486472047547672850240504644724237622681051226475298641021460465693591328198884643113299290547\n",
    "# c= 42283915594501344485267248623513200233446094470736705697443007113321626680426285450382367899651284974513612737494846341451839719107790834231527235849133044523610427579413634210403497384575053059028736898829336544509930253507823130816774793407886244665524126325815927718654844171168338168469830396958711749844\n"
   ]
  },
  {
   "cell_type": "markdown",
   "metadata": {},
   "source": [
    "- Ta xác định được \n",
    "```python\n",
    "m= b'I think len flag is 10- 16 bytes and '+ flag\n",
    "```\n",
    "- Với gợi ý là len flag khoảng 10- 16 bytes.\n",
    "- Từ đây ta viết m:\n",
    "```python\n",
    "m= b'I think len flag is 10- 16 bytes and '\n",
    "for i in range (10, 17):\n",
    "    x= m+ b'\\x00'* i\n",
    "    print(x)\n",
    "\n",
    "# b'I think len flag is 10- 16 bytes and \\x00\\x00\\x00\\x00\\x00\\x00\\x00\\x00\\x00\\x00'\n",
    "# b'I think len flag is 10- 16 bytes and \\x00\\x00\\x00\\x00\\x00\\x00\\x00\\x00\\x00\\x00\\x00'\n",
    "# b'I think len flag is 10- 16 bytes and \\x00\\x00\\x00\\x00\\x00\\x00\\x00\\x00\\x00\\x00\\x00\\x00'\n",
    "# b'I think len flag is 10- 16 bytes and \\x00\\x00\\x00\\x00\\x00\\x00\\x00\\x00\\x00\\x00\\x00\\x00\\x00'\n",
    "# b'I think len flag is 10- 16 bytes and \\x00\\x00\\x00\\x00\\x00\\x00\\x00\\x00\\x00\\x00\\x00\\x00\\x00\\x00'\n",
    "# b'I think len flag is 10- 16 bytes and \\x00\\x00\\x00\\x00\\x00\\x00\\x00\\x00\\x00\\x00\\x00\\x00\\x00\\x00\\x00'\n",
    "# b'I think len flag is 10- 16 bytes and \\x00\\x00\\x00\\x00\\x00\\x00\\x00\\x00\\x00\\x00\\x00\\x00\\x00\\x00\\x00\\x00'\n",
    "```\n",
    "\n",
    "- Từ đây ta có thể lập được $f(x)= (a+ x)^3- c$ và $f(m) \\equiv 0 \\mod(n)$ do chưa biết chính xác len của flag nên ta sẽ brute force với tất cả giá trị $m$ ở trên.\n",
    "- Ta sẽ sử dụng `small_roots()` do nghiệm cần tìm khá nhỏ ($max(2^{16})$).\n",
    "- `small_roots(X, beta)` cho phép ta tìm nghiệm nhỏ của đa thức dựa trên LLL:\n",
    "    - `X`: Giới hạn trên cho các nghiệm nhỏ cần tìm.\n",
    "    - `beta`: Một tham số điều chỉnh độ chính xác của thuật toán (thường là 1).\n",
    "- Ở đây điều khó nhất đó là dựng được $f(x)$, tuy nhiên với case này thì $f(x)$ khá dễ dựng.\n",
    "```python\n",
    "from Crypto.Util.number import *\n",
    "n= 154650126490910825870431824934576182333068222671724410440155023178036767655133979421221274290173069244049735304064481949737997738636139682820002608333682194079520003991577040792761175190838968676570220075436336115063486472047547672850240504644724237622681051226475298641021460465693591328198884643113299290547\n",
    "c= 42283915594501344485267248623513200233446094470736705697443007113321626680426285450382367899651284974513612737494846341451839719107790834231527235849133044523610427579413634210403497384575053059028736898829336544509930253507823130816774793407886244665524126325815927718654844171168338168469830396958711749844\n",
    "e= 3\n",
    "a= b'I think len flag is 10- 16 bytes and '\n",
    "for i in range (10, 17):\n",
    "    m= a+ b'\\x00'* i\n",
    "    m= bytes_to_long(m)\n",
    "    P.<x> = PolynomialRing(Zmod(n))\n",
    "    f= (m+ x)^e- c\n",
    "    flag= f.small_roots()\n",
    "    try:\n",
    "        print(long_to_bytes(int(flag[0])))\n",
    "    except: continue\n",
    "```"
   ]
  }
 ],
 "metadata": {
  "kernelspec": {
   "display_name": "Python 3",
   "language": "python",
   "name": "python3"
  },
  "language_info": {
   "codemirror_mode": {
    "name": "ipython",
    "version": 3
   },
   "file_extension": ".py",
   "mimetype": "text/x-python",
   "name": "python",
   "nbconvert_exporter": "python",
   "pygments_lexer": "ipython3",
   "version": "3.12.9"
  }
 },
 "nbformat": 4,
 "nbformat_minor": 2
}
